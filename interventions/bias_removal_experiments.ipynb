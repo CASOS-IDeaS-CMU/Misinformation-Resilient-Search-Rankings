{
 "cells": [
  {
   "cell_type": "code",
   "execution_count": 2,
   "metadata": {},
   "outputs": [
    {
     "data": {
      "text/html": [
       "<div>\n",
       "<style scoped>\n",
       "    .dataframe tbody tr th:only-of-type {\n",
       "        vertical-align: middle;\n",
       "    }\n",
       "\n",
       "    .dataframe tbody tr th {\n",
       "        vertical-align: top;\n",
       "    }\n",
       "\n",
       "    .dataframe thead tr th {\n",
       "        text-align: left;\n",
       "    }\n",
       "\n",
       "    .dataframe thead tr:last-of-type th {\n",
       "        text-align: right;\n",
       "    }\n",
       "</style>\n",
       "<table border=\"1\" class=\"dataframe\">\n",
       "  <thead>\n",
       "    <tr>\n",
       "      <th></th>\n",
       "      <th></th>\n",
       "      <th colspan=\"8\" halign=\"left\">backlinks</th>\n",
       "      <th colspan=\"2\" halign=\"left\">refpages</th>\n",
       "      <th>...</th>\n",
       "      <th colspan=\"2\" halign=\"left\">refips</th>\n",
       "      <th colspan=\"8\" halign=\"left\">linked_root_domains</th>\n",
       "    </tr>\n",
       "    <tr>\n",
       "      <th></th>\n",
       "      <th></th>\n",
       "      <th>count</th>\n",
       "      <th>mean</th>\n",
       "      <th>std</th>\n",
       "      <th>min</th>\n",
       "      <th>25%</th>\n",
       "      <th>50%</th>\n",
       "      <th>75%</th>\n",
       "      <th>max</th>\n",
       "      <th>count</th>\n",
       "      <th>mean</th>\n",
       "      <th>...</th>\n",
       "      <th>75%</th>\n",
       "      <th>max</th>\n",
       "      <th>count</th>\n",
       "      <th>mean</th>\n",
       "      <th>std</th>\n",
       "      <th>min</th>\n",
       "      <th>25%</th>\n",
       "      <th>50%</th>\n",
       "      <th>75%</th>\n",
       "      <th>max</th>\n",
       "    </tr>\n",
       "    <tr>\n",
       "      <th>label</th>\n",
       "      <th>bias</th>\n",
       "      <th></th>\n",
       "      <th></th>\n",
       "      <th></th>\n",
       "      <th></th>\n",
       "      <th></th>\n",
       "      <th></th>\n",
       "      <th></th>\n",
       "      <th></th>\n",
       "      <th></th>\n",
       "      <th></th>\n",
       "      <th></th>\n",
       "      <th></th>\n",
       "      <th></th>\n",
       "      <th></th>\n",
       "      <th></th>\n",
       "      <th></th>\n",
       "      <th></th>\n",
       "      <th></th>\n",
       "      <th></th>\n",
       "      <th></th>\n",
       "      <th></th>\n",
       "    </tr>\n",
       "  </thead>\n",
       "  <tbody>\n",
       "    <tr>\n",
       "      <th rowspan=\"5\" valign=\"top\">0</th>\n",
       "      <th>-2</th>\n",
       "      <td>189.0</td>\n",
       "      <td>5.605466e+06</td>\n",
       "      <td>1.157444e+07</td>\n",
       "      <td>19111.0</td>\n",
       "      <td>282383.00</td>\n",
       "      <td>1250711.0</td>\n",
       "      <td>5265263.00</td>\n",
       "      <td>6.793343e+07</td>\n",
       "      <td>189.0</td>\n",
       "      <td>2.203180e+06</td>\n",
       "      <td>...</td>\n",
       "      <td>25612.00</td>\n",
       "      <td>187798.0</td>\n",
       "      <td>189.0</td>\n",
       "      <td>12264.634921</td>\n",
       "      <td>15466.784796</td>\n",
       "      <td>0.0</td>\n",
       "      <td>2204.00</td>\n",
       "      <td>6001.0</td>\n",
       "      <td>18650.00</td>\n",
       "      <td>87143.0</td>\n",
       "    </tr>\n",
       "    <tr>\n",
       "      <th>-1</th>\n",
       "      <td>643.0</td>\n",
       "      <td>5.049366e+07</td>\n",
       "      <td>7.198760e+08</td>\n",
       "      <td>12567.0</td>\n",
       "      <td>473760.00</td>\n",
       "      <td>1859244.0</td>\n",
       "      <td>8158066.00</td>\n",
       "      <td>1.807226e+10</td>\n",
       "      <td>643.0</td>\n",
       "      <td>2.273133e+07</td>\n",
       "      <td>...</td>\n",
       "      <td>40362.00</td>\n",
       "      <td>1922692.0</td>\n",
       "      <td>643.0</td>\n",
       "      <td>23985.881804</td>\n",
       "      <td>43634.317359</td>\n",
       "      <td>0.0</td>\n",
       "      <td>2322.00</td>\n",
       "      <td>9314.0</td>\n",
       "      <td>33600.00</td>\n",
       "      <td>491639.0</td>\n",
       "    </tr>\n",
       "    <tr>\n",
       "      <th>0</th>\n",
       "      <td>785.0</td>\n",
       "      <td>7.648578e+06</td>\n",
       "      <td>6.078431e+07</td>\n",
       "      <td>10490.0</td>\n",
       "      <td>260670.00</td>\n",
       "      <td>765621.0</td>\n",
       "      <td>2398194.00</td>\n",
       "      <td>1.445707e+09</td>\n",
       "      <td>785.0</td>\n",
       "      <td>1.817495e+06</td>\n",
       "      <td>...</td>\n",
       "      <td>20870.00</td>\n",
       "      <td>381223.0</td>\n",
       "      <td>785.0</td>\n",
       "      <td>13368.214013</td>\n",
       "      <td>24546.268777</td>\n",
       "      <td>0.0</td>\n",
       "      <td>1719.00</td>\n",
       "      <td>4082.0</td>\n",
       "      <td>10664.00</td>\n",
       "      <td>267165.0</td>\n",
       "    </tr>\n",
       "    <tr>\n",
       "      <th>1</th>\n",
       "      <td>346.0</td>\n",
       "      <td>1.071284e+07</td>\n",
       "      <td>5.915935e+07</td>\n",
       "      <td>10314.0</td>\n",
       "      <td>167291.00</td>\n",
       "      <td>725259.5</td>\n",
       "      <td>5000708.00</td>\n",
       "      <td>1.018172e+09</td>\n",
       "      <td>346.0</td>\n",
       "      <td>3.094879e+06</td>\n",
       "      <td>...</td>\n",
       "      <td>26646.75</td>\n",
       "      <td>481718.0</td>\n",
       "      <td>346.0</td>\n",
       "      <td>10046.187861</td>\n",
       "      <td>18627.773151</td>\n",
       "      <td>0.0</td>\n",
       "      <td>450.50</td>\n",
       "      <td>1829.0</td>\n",
       "      <td>9125.00</td>\n",
       "      <td>155372.0</td>\n",
       "    </tr>\n",
       "    <tr>\n",
       "      <th>2</th>\n",
       "      <td>50.0</td>\n",
       "      <td>3.650249e+06</td>\n",
       "      <td>9.091875e+06</td>\n",
       "      <td>13961.0</td>\n",
       "      <td>98902.25</td>\n",
       "      <td>585755.5</td>\n",
       "      <td>2563707.25</td>\n",
       "      <td>5.800030e+07</td>\n",
       "      <td>50.0</td>\n",
       "      <td>1.362081e+06</td>\n",
       "      <td>...</td>\n",
       "      <td>12086.25</td>\n",
       "      <td>70694.0</td>\n",
       "      <td>50.0</td>\n",
       "      <td>6987.080000</td>\n",
       "      <td>10252.849517</td>\n",
       "      <td>0.0</td>\n",
       "      <td>844.00</td>\n",
       "      <td>3062.0</td>\n",
       "      <td>8098.50</td>\n",
       "      <td>52669.0</td>\n",
       "    </tr>\n",
       "    <tr>\n",
       "      <th rowspan=\"5\" valign=\"top\">1</th>\n",
       "      <th>-2</th>\n",
       "      <td>116.0</td>\n",
       "      <td>2.979343e+07</td>\n",
       "      <td>2.210886e+08</td>\n",
       "      <td>12316.0</td>\n",
       "      <td>211318.25</td>\n",
       "      <td>1013283.0</td>\n",
       "      <td>4784474.75</td>\n",
       "      <td>2.348464e+09</td>\n",
       "      <td>116.0</td>\n",
       "      <td>2.001025e+07</td>\n",
       "      <td>...</td>\n",
       "      <td>23163.25</td>\n",
       "      <td>730914.0</td>\n",
       "      <td>116.0</td>\n",
       "      <td>12329.956897</td>\n",
       "      <td>19395.711611</td>\n",
       "      <td>0.0</td>\n",
       "      <td>625.75</td>\n",
       "      <td>3479.5</td>\n",
       "      <td>14814.25</td>\n",
       "      <td>87366.0</td>\n",
       "    </tr>\n",
       "    <tr>\n",
       "      <th>-1</th>\n",
       "      <td>60.0</td>\n",
       "      <td>3.429948e+07</td>\n",
       "      <td>1.085469e+08</td>\n",
       "      <td>12841.0</td>\n",
       "      <td>440475.50</td>\n",
       "      <td>2382958.5</td>\n",
       "      <td>15530887.25</td>\n",
       "      <td>7.284297e+08</td>\n",
       "      <td>60.0</td>\n",
       "      <td>1.627997e+07</td>\n",
       "      <td>...</td>\n",
       "      <td>68460.50</td>\n",
       "      <td>614348.0</td>\n",
       "      <td>60.0</td>\n",
       "      <td>44932.383333</td>\n",
       "      <td>143384.868344</td>\n",
       "      <td>0.0</td>\n",
       "      <td>573.00</td>\n",
       "      <td>5268.5</td>\n",
       "      <td>15713.50</td>\n",
       "      <td>973037.0</td>\n",
       "    </tr>\n",
       "    <tr>\n",
       "      <th>0</th>\n",
       "      <td>17.0</td>\n",
       "      <td>1.967903e+07</td>\n",
       "      <td>4.881776e+07</td>\n",
       "      <td>16356.0</td>\n",
       "      <td>171664.00</td>\n",
       "      <td>3752025.0</td>\n",
       "      <td>17177889.00</td>\n",
       "      <td>2.042046e+08</td>\n",
       "      <td>17.0</td>\n",
       "      <td>9.740917e+06</td>\n",
       "      <td>...</td>\n",
       "      <td>23201.00</td>\n",
       "      <td>141882.0</td>\n",
       "      <td>17.0</td>\n",
       "      <td>18669.294118</td>\n",
       "      <td>48579.139274</td>\n",
       "      <td>5.0</td>\n",
       "      <td>117.00</td>\n",
       "      <td>1643.0</td>\n",
       "      <td>14120.00</td>\n",
       "      <td>202141.0</td>\n",
       "    </tr>\n",
       "    <tr>\n",
       "      <th>1</th>\n",
       "      <td>60.0</td>\n",
       "      <td>9.225330e+06</td>\n",
       "      <td>1.690439e+07</td>\n",
       "      <td>23336.0</td>\n",
       "      <td>782770.50</td>\n",
       "      <td>3246200.0</td>\n",
       "      <td>9437863.50</td>\n",
       "      <td>8.295594e+07</td>\n",
       "      <td>60.0</td>\n",
       "      <td>3.843673e+06</td>\n",
       "      <td>...</td>\n",
       "      <td>34229.75</td>\n",
       "      <td>199012.0</td>\n",
       "      <td>60.0</td>\n",
       "      <td>6876.283333</td>\n",
       "      <td>14650.252811</td>\n",
       "      <td>0.0</td>\n",
       "      <td>589.00</td>\n",
       "      <td>1806.5</td>\n",
       "      <td>7039.00</td>\n",
       "      <td>83314.0</td>\n",
       "    </tr>\n",
       "    <tr>\n",
       "      <th>2</th>\n",
       "      <td>348.0</td>\n",
       "      <td>4.469365e+06</td>\n",
       "      <td>1.544129e+07</td>\n",
       "      <td>10130.0</td>\n",
       "      <td>107610.25</td>\n",
       "      <td>374743.0</td>\n",
       "      <td>1792787.25</td>\n",
       "      <td>1.545590e+08</td>\n",
       "      <td>348.0</td>\n",
       "      <td>1.595944e+06</td>\n",
       "      <td>...</td>\n",
       "      <td>7833.25</td>\n",
       "      <td>319371.0</td>\n",
       "      <td>348.0</td>\n",
       "      <td>5733.505747</td>\n",
       "      <td>12111.714037</td>\n",
       "      <td>0.0</td>\n",
       "      <td>358.75</td>\n",
       "      <td>2032.5</td>\n",
       "      <td>5678.25</td>\n",
       "      <td>126141.0</td>\n",
       "    </tr>\n",
       "  </tbody>\n",
       "</table>\n",
       "<p>10 rows × 184 columns</p>\n",
       "</div>"
      ],
      "text/plain": [
       "           backlinks                                                  \\\n",
       "               count          mean           std      min        25%   \n",
       "label bias                                                             \n",
       "0     -2       189.0  5.605466e+06  1.157444e+07  19111.0  282383.00   \n",
       "      -1       643.0  5.049366e+07  7.198760e+08  12567.0  473760.00   \n",
       "       0       785.0  7.648578e+06  6.078431e+07  10490.0  260670.00   \n",
       "       1       346.0  1.071284e+07  5.915935e+07  10314.0  167291.00   \n",
       "       2        50.0  3.650249e+06  9.091875e+06  13961.0   98902.25   \n",
       "1     -2       116.0  2.979343e+07  2.210886e+08  12316.0  211318.25   \n",
       "      -1        60.0  3.429948e+07  1.085469e+08  12841.0  440475.50   \n",
       "       0        17.0  1.967903e+07  4.881776e+07  16356.0  171664.00   \n",
       "       1        60.0  9.225330e+06  1.690439e+07  23336.0  782770.50   \n",
       "       2       348.0  4.469365e+06  1.544129e+07  10130.0  107610.25   \n",
       "\n",
       "                                                 refpages                ...  \\\n",
       "                  50%          75%           max    count          mean  ...   \n",
       "label bias                                                               ...   \n",
       "0     -2    1250711.0   5265263.00  6.793343e+07    189.0  2.203180e+06  ...   \n",
       "      -1    1859244.0   8158066.00  1.807226e+10    643.0  2.273133e+07  ...   \n",
       "       0     765621.0   2398194.00  1.445707e+09    785.0  1.817495e+06  ...   \n",
       "       1     725259.5   5000708.00  1.018172e+09    346.0  3.094879e+06  ...   \n",
       "       2     585755.5   2563707.25  5.800030e+07     50.0  1.362081e+06  ...   \n",
       "1     -2    1013283.0   4784474.75  2.348464e+09    116.0  2.001025e+07  ...   \n",
       "      -1    2382958.5  15530887.25  7.284297e+08     60.0  1.627997e+07  ...   \n",
       "       0    3752025.0  17177889.00  2.042046e+08     17.0  9.740917e+06  ...   \n",
       "       1    3246200.0   9437863.50  8.295594e+07     60.0  3.843673e+06  ...   \n",
       "       2     374743.0   1792787.25  1.545590e+08    348.0  1.595944e+06  ...   \n",
       "\n",
       "              refips            linked_root_domains                \\\n",
       "                 75%        max               count          mean   \n",
       "label bias                                                          \n",
       "0     -2    25612.00   187798.0               189.0  12264.634921   \n",
       "      -1    40362.00  1922692.0               643.0  23985.881804   \n",
       "       0    20870.00   381223.0               785.0  13368.214013   \n",
       "       1    26646.75   481718.0               346.0  10046.187861   \n",
       "       2    12086.25    70694.0                50.0   6987.080000   \n",
       "1     -2    23163.25   730914.0               116.0  12329.956897   \n",
       "      -1    68460.50   614348.0                60.0  44932.383333   \n",
       "       0    23201.00   141882.0                17.0  18669.294118   \n",
       "       1    34229.75   199012.0                60.0   6876.283333   \n",
       "       2     7833.25   319371.0               348.0   5733.505747   \n",
       "\n",
       "                                                                     \n",
       "                      std  min      25%     50%       75%       max  \n",
       "label bias                                                           \n",
       "0     -2     15466.784796  0.0  2204.00  6001.0  18650.00   87143.0  \n",
       "      -1     43634.317359  0.0  2322.00  9314.0  33600.00  491639.0  \n",
       "       0     24546.268777  0.0  1719.00  4082.0  10664.00  267165.0  \n",
       "       1     18627.773151  0.0   450.50  1829.0   9125.00  155372.0  \n",
       "       2     10252.849517  0.0   844.00  3062.0   8098.50   52669.0  \n",
       "1     -2     19395.711611  0.0   625.75  3479.5  14814.25   87366.0  \n",
       "      -1    143384.868344  0.0   573.00  5268.5  15713.50  973037.0  \n",
       "       0     48579.139274  5.0   117.00  1643.0  14120.00  202141.0  \n",
       "       1     14650.252811  0.0   589.00  1806.5   7039.00   83314.0  \n",
       "       2     12111.714037  0.0   358.75  2032.5   5678.25  126141.0  \n",
       "\n",
       "[10 rows x 184 columns]"
      ]
     },
     "execution_count": 2,
     "metadata": {},
     "output_type": "execute_result"
    }
   ],
   "source": [
    "from tqdm import tqdm\n",
    "import numpy as np\n",
    "from sklearn.linear_model import LogisticRegression\n",
    "from sklearn.ensemble import RandomForestRegressor\n",
    "import pandas as pd\n",
    "df = pd.read_csv('../data/filtered_attrs.csv')\n",
    "\n",
    "favorable = 0\n",
    "unfavorable = 1\n",
    "\n",
    "df = df.merge(pd.read_csv('../data/bias_labels.csv'), on='url', how='inner')\n",
    "\n",
    "privileged_groups = [{'bias':-2}]\n",
    "unprivileged_groups = [{'bias':2}]\n",
    "\n",
    "label='label'\n",
    "df_output_append = df[['url', 'label']]\n",
    "df.drop(columns=['url', 'source'], inplace=True)\n",
    "df.dropna(inplace=True)\n",
    "\n",
    "df = df.sample(frac=1, random_state=42)\n",
    "df['label'] = df['label'].apply(lambda x: 1 if x <= 4 else 0)\n",
    "df.groupby([label,'bias']).describe()"
   ]
  },
  {
   "cell_type": "code",
   "execution_count": 3,
   "metadata": {},
   "outputs": [
    {
     "name": "stderr",
     "output_type": "stream",
     "text": [
      "WARNING:root:No module named 'tempeh': LawSchoolGPADataset will be unavailable. To install, run:\n",
      "pip install 'aif360[LawSchoolGPA]'\n"
     ]
    },
    {
     "name": "stderr",
     "output_type": "stream",
     "text": [
      "2023-07-28 15:20:16.532243: I tensorflow/tsl/cuda/cudart_stub.cc:28] Could not find cuda drivers on your machine, GPU will not be used.\n",
      "2023-07-28 15:20:16.602832: I tensorflow/tsl/cuda/cudart_stub.cc:28] Could not find cuda drivers on your machine, GPU will not be used.\n",
      "2023-07-28 15:20:16.603722: I tensorflow/core/platform/cpu_feature_guard.cc:182] This TensorFlow binary is optimized to use available CPU instructions in performance-critical operations.\n",
      "To enable the following instructions: AVX2 FMA, in other operations, rebuild TensorFlow with the appropriate compiler flags.\n",
      "2023-07-28 15:20:17.153381: W tensorflow/compiler/tf2tensorrt/utils/py_utils.cc:38] TF-TRT Warning: Could not find TensorRT\n"
     ]
    },
    {
     "name": "stdout",
     "output_type": "stream",
     "text": [
      "Experiment                     DI              SPD            \n",
      "--------------------------------------------------------------------------------\n",
      "Original data                  0.1811          -0.8003        \n"
     ]
    }
   ],
   "source": [
    "from aif360.sklearn import metrics\n",
    "from aif360.datasets import BinaryLabelDataset\n",
    "from aif360.metrics import ClassificationMetric, BinaryLabelDatasetMetric\n",
    "from aif360.algorithms.preprocessing import Reweighing, DisparateImpactRemover, OptimPreproc\n",
    "from aif360.algorithms.inprocessing import AdversarialDebiasing, ExponentiatedGradientReduction\n",
    "import tensorflow as tf\n",
    "import os\n",
    "from aif360.algorithms.preprocessing.optim_preproc_helpers.opt_tools import OptTools\n",
    "from sklearn.ensemble import RandomForestRegressor\n",
    "\n",
    "chosen_attribute = 'bias'\n",
    "split = 0.7\n",
    "binary_label_dataset = BinaryLabelDataset(\n",
    "    favorable_label=favorable,\n",
    "    unfavorable_label=unfavorable,\n",
    "    df=df,\n",
    "    label_names=[label],\n",
    "    protected_attribute_names=[chosen_attribute])\n",
    "orig_train, orig_test = binary_label_dataset.split([split], shuffle=False)\n",
    "\n",
    "clf = RandomForestRegressor(n_estimators=50, random_state=0)\n",
    "clf.fit(orig_train.features, orig_train.labels.ravel())\n",
    "test_orig_pred = orig_test.copy()\n",
    "test_orig_pred.labels = clf.predict(orig_test.features) > 0.75\n",
    "\n",
    "original_dataset_metric = BinaryLabelDatasetMetric(test_orig_pred, \n",
    "    unprivileged_groups=unprivileged_groups,\n",
    "    privileged_groups=privileged_groups)\n",
    "\n",
    "print(\"{:<30} {:<15} {:<15}\".format('Experiment', 'DI', 'SPD'))\n",
    "print('-'*80)\n",
    "print(\"{:<30} {:<15} {:<15}\".format('Original data', f\"{original_dataset_metric.disparate_impact():.4f}\", f\"{original_dataset_metric.statistical_parity_difference():.4f}\"))\n"
   ]
  },
  {
   "cell_type": "code",
   "execution_count": 4,
   "metadata": {},
   "outputs": [
    {
     "name": "stderr",
     "output_type": "stream",
     "text": [
      "  9%|▉         | 1/11 [00:01<00:14,  1.48s/it]"
     ]
    },
    {
     "name": "stdout",
     "output_type": "stream",
     "text": [
      "Num link schemes:  91\n",
      "Source domains with scores:  0\n"
     ]
    },
    {
     "name": "stderr",
     "output_type": "stream",
     "text": [
      " 18%|█▊        | 2/11 [00:02<00:13,  1.47s/it]"
     ]
    },
    {
     "name": "stdout",
     "output_type": "stream",
     "text": [
      "Num link schemes:  91\n",
      "Source domains with scores:  0\n"
     ]
    },
    {
     "name": "stderr",
     "output_type": "stream",
     "text": [
      " 27%|██▋       | 3/11 [00:04<00:11,  1.46s/it]"
     ]
    },
    {
     "name": "stdout",
     "output_type": "stream",
     "text": [
      "Num link schemes:  91\n",
      "Source domains with scores:  0\n"
     ]
    },
    {
     "name": "stderr",
     "output_type": "stream",
     "text": [
      " 36%|███▋      | 4/11 [00:05<00:10,  1.45s/it]"
     ]
    },
    {
     "name": "stdout",
     "output_type": "stream",
     "text": [
      "Num link schemes:  91\n",
      "Source domains with scores:  0\n"
     ]
    },
    {
     "name": "stderr",
     "output_type": "stream",
     "text": [
      " 45%|████▌     | 5/11 [00:07<00:08,  1.44s/it]"
     ]
    },
    {
     "name": "stdout",
     "output_type": "stream",
     "text": [
      "Num link schemes:  91\n",
      "Source domains with scores:  0\n"
     ]
    },
    {
     "name": "stderr",
     "output_type": "stream",
     "text": [
      " 55%|█████▍    | 6/11 [00:08<00:07,  1.43s/it]"
     ]
    },
    {
     "name": "stdout",
     "output_type": "stream",
     "text": [
      "Num link schemes:  91\n",
      "Source domains with scores:  0\n"
     ]
    },
    {
     "name": "stderr",
     "output_type": "stream",
     "text": [
      " 64%|██████▎   | 7/11 [00:10<00:05,  1.43s/it]"
     ]
    },
    {
     "name": "stdout",
     "output_type": "stream",
     "text": [
      "Num link schemes:  91\n",
      "Source domains with scores:  0\n"
     ]
    },
    {
     "name": "stderr",
     "output_type": "stream",
     "text": [
      " 73%|███████▎  | 8/11 [00:11<00:04,  1.42s/it]"
     ]
    },
    {
     "name": "stdout",
     "output_type": "stream",
     "text": [
      "Num link schemes:  91\n",
      "Source domains with scores:  0\n"
     ]
    },
    {
     "name": "stderr",
     "output_type": "stream",
     "text": [
      " 82%|████████▏ | 9/11 [00:12<00:02,  1.42s/it]"
     ]
    },
    {
     "name": "stdout",
     "output_type": "stream",
     "text": [
      "Num link schemes:  91\n",
      "Source domains with scores:  0\n"
     ]
    },
    {
     "name": "stderr",
     "output_type": "stream",
     "text": [
      " 91%|█████████ | 10/11 [00:14<00:01,  1.46s/it]"
     ]
    },
    {
     "name": "stdout",
     "output_type": "stream",
     "text": [
      "Num link schemes:  91\n",
      "Source domains with scores:  0\n"
     ]
    },
    {
     "name": "stderr",
     "output_type": "stream",
     "text": [
      "100%|██████████| 11/11 [00:15<00:00,  1.43s/it]"
     ]
    },
    {
     "name": "stdout",
     "output_type": "stream",
     "text": [
      "Num link schemes:  91\n",
      "Source domains with scores:  0\n"
     ]
    },
    {
     "name": "stderr",
     "output_type": "stream",
     "text": [
      "\n"
     ]
    }
   ],
   "source": [
    "from sklearn.metrics import roc_auc_score, f1_score, accuracy_score\n",
    "import warnings\n",
    "import pandas as pd\n",
    "from pandas.core.common import SettingWithCopyWarning\n",
    "warnings.simplefilter(action=\"ignore\", category=SettingWithCopyWarning)\n",
    "import sys\n",
    "sys.path.insert(0,'..')\n",
    "import interventions.backlink_relevance_combined as intervention\n",
    "import regressions.traffic_regression as regression\n",
    "from importlib import reload\n",
    "reload(intervention)\n",
    "reload(regression)\n",
    "\n",
    "traffic_df = pd.read_csv('../data/traffic.csv')\n",
    "traffic_mod = pd.merge(traffic_df[['url', 'traffic', 'rank']], df_output_append, on='url', how='inner')\n",
    "traffic_df = traffic_mod[['url', 'traffic', 'rank']]\n",
    "index = orig_train.feature_names.index(chosen_attribute)\n",
    "\n",
    "aucs = []\n",
    "acc = []\n",
    "f1 = []\n",
    "DIs = []\n",
    "spds = []\n",
    "traffic_reg_scores = []\n",
    "rank_reg_scores = []\n",
    "for level in tqdm(np.linspace(0., 1., 11)):\n",
    "    di = DisparateImpactRemover(repair_level=level, sensitive_attribute=chosen_attribute)\n",
    "    train_repd = di.fit_transform(orig_train)\n",
    "    test_repd = di.fit_transform(orig_test)\n",
    "\n",
    "    X_tr = np.delete(train_repd.features, index, axis=1)\n",
    "    X_te = np.delete(test_repd.features, index, axis=1)\n",
    "    y_tr = train_repd.labels.ravel()\n",
    "    \n",
    "    clf = RandomForestRegressor(n_estimators=50, random_state=0)\n",
    "    clf.fit(X_tr, y_tr)\n",
    "\n",
    "    full_repd = di.fit_transform(binary_label_dataset)\n",
    "    attrs_repd_df = pd.DataFrame(full_repd.features, columns=binary_label_dataset.feature_names)\n",
    "    attrs_repd_df['url'] = df_output_append['url']\n",
    "    attrs_repd_df['label'] = df_output_append['label']\n",
    "\n",
    "    experiments = {'link scheme removal': intervention.run_combined_intervention(link_scheme_removal=True, attribute_df=attrs_repd_df)[0]}\n",
    "    regression_res = regression.run_regression(traffic_df, attrs_repd_df, reg_var = 'traffic', experiments = experiments)\n",
    "    traffic_reg_scores.append(regression_res)\n",
    "    regression_res = regression.run_regression(traffic_df, attrs_repd_df, reg_var = 'rank', experiments = experiments)\n",
    "    rank_reg_scores.append(regression_res)\n",
    "\n",
    "    \n",
    "    test_repd_pred = test_repd.copy()\n",
    "    test_repd_pred.labels = clf.predict(X_te) > 0.75\n",
    "    aucs.append(roc_auc_score(test_repd.labels.ravel(), test_repd_pred.labels))\n",
    "    acc.append(accuracy_score(test_repd.labels.ravel(), test_repd_pred.labels))\n",
    "    f1.append(f1_score(test_repd.labels.ravel(), test_repd_pred.labels, average='macro'))\n",
    "\n",
    "    cm = BinaryLabelDatasetMetric(test_repd_pred, privileged_groups=privileged_groups, unprivileged_groups=unprivileged_groups)\n",
    "    DIs.append(cm.disparate_impact())\n",
    "    spds.append(cm.statistical_parity_difference())\n"
   ]
  },
  {
   "cell_type": "code",
   "execution_count": 14,
   "metadata": {},
   "outputs": [],
   "source": [
    "import matplotlib.pyplot as plt\n",
    "import numpy as np\n",
    "x_axis_data = np.linspace(0, 1, 11)\n",
    "fig, ax2 = plt.subplots()\n",
    "ax2.set_xlabel('Repair Level r') \n",
    "ax2.plot(x_axis_data, [x['metric'][0] for x in traffic_reg_scores], 'C2-', label='Traffic RIS Scores')\n",
    "ax2.plot(x_axis_data, [x['metric'][0] for x in rank_reg_scores], 'C3-', label='Rank RIS Scores')\n",
    "ax2.set_ylabel('RIS Score')\n",
    "ax2.tick_params(axis='y')\n",
    "ax2.set_ylim(1,3)\n",
    "lines2, labels2 = ax2.get_legend_handles_labels()\n",
    "ax2.legend(lines2, labels2, loc='upper right')\n",
    "\n",
    "plt.title('Debiasing (r) is not at the cost of Intervention Quality (RIS)')\n",
    "plt.tight_layout()\n",
    "plt.savefig('../results/ris.png', dpi=300)"
   ]
  },
  {
   "cell_type": "code",
   "execution_count": 18,
   "metadata": {},
   "outputs": [],
   "source": [
    "import matplotlib.pyplot as plt\n",
    "import numpy as np\n",
    "\n",
    "x_axis_data = np.linspace(0, 1, 11)\n",
    "fig, ax1 = plt.subplots()\n",
    "ax1.plot(x_axis_data, DIs, 'C0-', label='DI Scores')\n",
    "ax1.set_xlabel('Repair Level r') \n",
    "ax1.tick_params(axis='y')\n",
    "ax1.plot(x_axis_data, f1, 'C1-', label='F1 Scores')\n",
    "ax1.set_ylim(0,1)\n",
    "lines, labels = ax1.get_legend_handles_labels()\n",
    "ax1.legend(lines, labels, loc='upper right')\n",
    "\n",
    "plt.title('Debiasing (r) is at the cost of Classification Performance (F1)')\n",
    "plt.tight_layout()\n",
    "plt.savefig('../results/f1.png', dpi=300)\n",
    "plt.show()\n"
   ]
  },
  {
   "cell_type": "code",
   "execution_count": 6,
   "metadata": {},
   "outputs": [
    {
     "name": "stdout",
     "output_type": "stream",
     "text": [
      "Transformed data               0.2027          -0.4940        \n"
     ]
    }
   ],
   "source": [
    "di = DisparateImpactRemover(repair_level=1, sensitive_attribute=chosen_attribute)\n",
    "transformed_dataset = di.fit_transform(binary_label_dataset)\n",
    "\n",
    "transformed_dataset_metric = BinaryLabelDatasetMetric(transformed_dataset, privileged_groups=privileged_groups, unprivileged_groups=unprivileged_groups)\n",
    "print(\"{:<30} {:<15} {:<15}\".format('Transformed data', f\"{transformed_dataset_metric.disparate_impact():.4f}\",  f\"{transformed_dataset_metric.statistical_parity_difference():.4f}\"))"
   ]
  },
  {
   "cell_type": "code",
   "execution_count": 7,
   "metadata": {},
   "outputs": [
    {
     "data": {
      "text/plain": [
       "Index(['backlinks', 'refpages', 'pages', 'valid_pages', 'text', 'image',\n",
       "       'nofollow', 'ugc', 'sponsored', 'dofollow', 'redirect', 'canonical',\n",
       "       'gov', 'edu', 'rss', 'alternate', 'html_pages', 'links_internal',\n",
       "       'links_external', 'refdomains', 'refclass_c', 'refips',\n",
       "       'linked_root_domains', 'bias', 'url', 'label'],\n",
       "      dtype='object')"
      ]
     },
     "execution_count": 7,
     "metadata": {},
     "output_type": "execute_result"
    }
   ],
   "source": [
    "# create df out of numpy array\n",
    "df_output = pd.DataFrame(transformed_dataset.features, columns=binary_label_dataset.feature_names)\n",
    "df_output['url'] = df_output_append['url']\n",
    "df_output['label'] = df_output_append['label']\n",
    "df_output.to_csv('results/transformed_features.csv', index=False)"
   ]
  }
 ],
 "metadata": {
  "kernelspec": {
   "display_name": "Python 3.8.10 64-bit",
   "language": "python",
   "name": "python3"
  },
  "language_info": {
   "codemirror_mode": {
    "name": "ipython",
    "version": 3
   },
   "file_extension": ".py",
   "mimetype": "text/x-python",
   "name": "python",
   "nbconvert_exporter": "python",
   "pygments_lexer": "ipython3",
   "version": "3.8.10"
  },
  "orig_nbformat": 4,
  "vscode": {
   "interpreter": {
    "hash": "31f2aee4e71d21fbe5cf8b01ff0e069b9275f58929596ceb00d14d90e3e16cd6"
   }
  }
 },
 "nbformat": 4,
 "nbformat_minor": 2
}
